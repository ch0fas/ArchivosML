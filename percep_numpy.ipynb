{
 "cells": [
  {
   "cell_type": "markdown",
   "id": "c8e7970f",
   "metadata": {},
   "source": [
    "# Perceptron Usando Numpy "
   ]
  },
  {
   "cell_type": "code",
   "execution_count": null,
   "id": "825b6ce8",
   "metadata": {},
   "outputs": [],
   "source": [
    "import numpy as np\n",
    "import matplotlib.pyplot as plt"
   ]
  },
  {
   "cell_type": "code",
   "execution_count": null,
   "id": "2fec7c63",
   "metadata": {},
   "outputs": [],
   "source": [
    "# Data\n",
    "\n",
    "X = np.array([[0,0],\n",
    "             [0,1],\n",
    "             [1,0],\n",
    "             [1,1]], dtype=float)\n",
    "\n",
    "Y = np.array([0,1,1,1], dtype=float)"
   ]
  },
  {
   "cell_type": "code",
   "execution_count": null,
   "id": "3b5499b8",
   "metadata": {},
   "outputs": [],
   "source": [
    "# Hyperparameters\n",
    "\n",
    "lr = 0.1  # Learning Rate\n",
    "max_epochs = 50 # Safety Cap"
   ]
  },
  {
   "cell_type": "code",
   "execution_count": null,
   "id": "b54385d2",
   "metadata": {},
   "outputs": [],
   "source": [
    "# Initialization\n",
    "\n",
    "rng = np.random.default_rng(0) # So that the result is always the same\n",
    "w = rng.normal(0, 0.01, size=X.shape[1]) # Small random weights\n",
    "b = 0 # Bias\n",
    "\n",
    "def step(z: float) -> float:\n",
    "    return 1.0 if z >= 0 else 0.0\n",
    "\n",
    "error_history = [] # Misclassifications per epoch"
   ]
  },
  {
   "cell_type": "code",
   "execution_count": null,
   "id": "bc09d72c",
   "metadata": {},
   "outputs": [],
   "source": [
    "# Training rule\n",
    "\n",
    "for e in range(max_epochs):\n",
    "    errors = 0\n",
    "    for xi, target in zip(X, Y):\n",
    "        z = np.dot(xi, w) + b\n",
    "        y_hat = step(z)\n",
    "        update = lr * (target- y_hat)\n",
    "        w += update * xi\n",
    "        b += update\n",
    "        errors += int(update != 0.0)\n",
    "    error_history.append(errors)\n",
    "    if errors == 0:\n",
    "        break"
   ]
  },
  {
   "cell_type": "code",
   "execution_count": null,
   "id": "a5896138",
   "metadata": {},
   "outputs": [],
   "source": [
    "# Evaluate with training set\n",
    "\n",
    "preds = np.array([step(np.dot(xi, w) + b) for xi in X])\n",
    "\n",
    "print(f\"Learned weights: {w}\")\n",
    "print(f\"Learned bias: {b}\")\n",
    "print(f\"Predictions on AND inputs: {preds.astype(int)}\")\n",
    "print(f\"Errors per epoch: {error_history}\")"
   ]
  },
  {
   "cell_type": "code",
   "execution_count": null,
   "id": "015c26b8",
   "metadata": {},
   "outputs": [],
   "source": [
    "# Plot learning curve\n",
    "\n",
    "plt.figure()\n",
    "plt.plot(range(1, len(error_history) + 1), error_history, marker=\"o\")\n",
    "plt.show()"
   ]
  }
 ],
 "metadata": {
  "kernelspec": {
   "display_name": "school",
   "language": "python",
   "name": "python3"
  },
  "language_info": {
   "codemirror_mode": {
    "name": "ipython",
    "version": 3
   },
   "file_extension": ".py",
   "mimetype": "text/x-python",
   "name": "python",
   "nbconvert_exporter": "python",
   "pygments_lexer": "ipython3",
   "version": "3.11.13"
  }
 },
 "nbformat": 4,
 "nbformat_minor": 5
}
